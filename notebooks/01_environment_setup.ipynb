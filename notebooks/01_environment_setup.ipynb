{
 "cells": [
  {
   "cell_type": "markdown",
   "id": "ad599336",
   "metadata": {},
   "source": [
    "# Environment Setup\n",
    "\n",
    "This notebook sets up and validates the environment for the EventWise RAG system.\n",
    "\n",
    "## Objectives\n",
    "1. Verify all required libraries are installed,\n",
    "2. Test API connections (Open Agenda, Mistral AI)\n",
    "3. Validate environment variables\n",
    "4. Check system requirements\n",
    "5. Create initial project structure\n"
   ]
  },
  {
   "cell_type": "markdown",
   "id": "da000191",
   "metadata": {},
   "source": [
    "## 1. Import Libraries & Check Versions"
   ]
  },
  {
   "cell_type": "code",
   "execution_count": 2,
   "id": "c39bc2fc",
   "metadata": {},
   "outputs": [
    {
     "name": "stdout",
     "output_type": "stream",
     "text": [
      "Python version: 3.11.8 (main, Oct 31 2024, 20:28:11) [Clang 16.0.0 (clang-1600.0.26.4)]\n",
      "Platform: Darwin 24.5.0\n",
      "Date: 2025-07-13 21:31:21\n",
      "Current directory: /Volumes/Zona/_PORTFOLIO/EventWise\n"
     ]
    }
   ],
   "source": [
    "import sys\n",
    "import os\n",
    "\n",
    "from pathlib import Path\n",
    "import platform\n",
    "from datetime import datetime\n",
    "\n",
    "# Display system information\n",
    "print(f\"Python version: {sys.version}\")\n",
    "print(f\"Platform: {platform.system()} {platform.release()}\")\n",
    "print(f\"Date: {datetime.now().strftime('%Y-%m-%d %H:%M:%S')}\")\n",
    "print(f\"Current directory: {os.getcwd()}\")"
   ]
  },
  {
   "cell_type": "code",
   "execution_count": null,
   "id": "c86ff83d",
   "metadata": {},
   "outputs": [
    {
     "name": "stdout",
     "output_type": "stream",
     "text": [
      "✅ langchain: 0.3.26\n",
      "✅ mistralai: 1.9.2\n",
      "✅ faiss: 1.11.0\n",
      "✅ sentence_transformers: 5.0.0\n",
      "✅ fastapi: 0.116.1\n",
      "✅ requests: 2.32.4\n",
      "✅ pandas: 2.3.1\n",
      "✅ numpy: 2.2.6\n",
      "✅ python-dotenv: Unknown\n",
      "\n",
      "🎉 All required libraries are installed!\n"
     ]
    }
   ],
   "source": [
    "# Check required libraries\n",
    "required_libraries = {\n",
    "    'langchain': 'langchain',\n",
    "    'mistralai': 'mistralai',\n",
    "    'faiss': 'faiss',\n",
    "    'sentence_transformers': 'sentence_transformers',\n",
    "    'fastapi': 'fastapi',\n",
    "    'requests': 'requests',\n",
    "    'pandas': 'pandas',\n",
    "    'numpy': 'numpy',\n",
    "    'python-dotenv': 'dotenv',\n",
    "}\n",
    "\n",
    "missing_libraries = []\n",
    "installed_versions = {}\n",
    "\n",
    "for lib_name, import_name in required_libraries.items():\n",
    "    try:\n",
    "        if import_name == 'python_dotenv':\n",
    "            import dotenv\n",
    "            installed_versions[lib_name] = dotenv.__version__\n",
    "        else:\n",
    "            lib = __import__(import_name)\n",
    "            version = getattr(lib, '__version__', 'Unknown')\n",
    "            installed_versions[lib_name] = version\n",
    "        print(f\"✅ {lib_name}: {installed_versions[lib_name]}\")\n",
    "    except ImportError:\n",
    "        missing_libraries.append(lib_name)\n",
    "        print(f\"❌ {lib_name}: Not installed\")\n",
    "              \n",
    "if missing_libraries:\n",
    "    print(f\"\\n⚠️  Missing libraries: {', '.join(missing_libraries)}\")\n",
    "    print(\"Run: poetry install\")\n",
    "else:\n",
    "    print(\"\\n🎉 All required libraries are installed!\")"
   ]
  },
  {
   "cell_type": "markdown",
   "id": "55fe9a7c",
   "metadata": {},
   "source": [
    "## 2. Environment Variables Setup"
   ]
  },
  {
   "cell_type": "code",
   "execution_count": 2,
   "id": "6e9794c3",
   "metadata": {},
   "outputs": [],
   "source": [
    "# Load environment variables\n",
    "\n",
    "from dotenv import load_dotenv\n",
    "load_dotenv()\n",
    "\n",
    "\n",
    "# Check required environment variables\n",
    "required_env_vars = {\n",
    "    'MISTRAL_API_KEY': 'Mistral AI API key',\n",
    "    'OPENAGENDA_API_KEY': 'Open Agenda API key (optional)',\n",
    "    'VECTOR_STORE_PATH': 'Vector store path',\n",
    "    'LOG_LEVEL': 'Logging level'\n",
    "}"
   ]
  },
  {
   "cell_type": "code",
   "execution_count": null,
   "id": "29a1c081",
   "metadata": {},
   "outputs": [],
   "source": []
  }
 ],
 "metadata": {
  "kernelspec": {
   "display_name": ".venv",
   "language": "python",
   "name": "python3"
  },
  "language_info": {
   "codemirror_mode": {
    "name": "ipython",
    "version": 3
   },
   "file_extension": ".py",
   "mimetype": "text/x-python",
   "name": "python",
   "nbconvert_exporter": "python",
   "pygments_lexer": "ipython3",
   "version": "3.11.8"
  }
 },
 "nbformat": 4,
 "nbformat_minor": 5
}
